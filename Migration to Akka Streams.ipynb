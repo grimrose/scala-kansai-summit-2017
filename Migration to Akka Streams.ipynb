{
 "cells": [
  {
   "cell_type": "markdown",
   "metadata": {
    "slideshow": {
     "slide_type": "slide"
    }
   },
   "source": [
    "# Akka Streamsへ移行しとるんやけど\n",
    "# ちょっと聞いてや\n",
    "\n",
    "[@grimrose](https://twitter.com/grimrose)\n",
    "\n",
    "@[Scala関西 Summit2017](http://summit.scala-kansai.org/)\n",
    "\n",
    "2017-09-08"
   ]
  },
  {
   "cell_type": "markdown",
   "metadata": {
    "slideshow": {
     "slide_type": "slide"
    }
   },
   "source": [
    "### 今日話すこと\n",
    "\n",
    "現在もともとPHPで作られていた集計業務システムをScalaへ置き換えています。\n",
    "\n",
    "チームが成熟したのを機に、まずバッチ処理をAkka Streamsに移行し始めました。\n",
    "\n",
    "また、Akka HTTPを導入してPHPが持っていたAPIのサービスも一部移行を始めています。\n",
    "\n",
    "Akka Streamsを導入してどう変わったのか、ハマったところ等を紹介します。"
   ]
  },
  {
   "cell_type": "markdown",
   "metadata": {
    "slideshow": {
     "slide_type": "slide"
    }
   },
   "source": [
    "### お前、誰よ\n",
    "\n",
    "* よしだ\n",
    "  * twitter: [@grimrose](https://twitter.com/grimrose)\n",
    "  * github: [grimrose](https://github.com/grimrose)\n",
    "* とある人材紹介会社\n",
    "    * マーケティング部門のデータエンジニア(自称)\n",
    "* 好きなIDE: IntelliJ IDEA\n",
    "* Scala歴: 2年(2015~)\n",
    "* [ScalaMatsuri](scalamatsuri.org) 2016, 2017 スタッフ"
   ]
  },
  {
   "cell_type": "markdown",
   "metadata": {
    "slideshow": {
     "slide_type": "slide"
    }
   },
   "source": [
    "### 普段の仕事\n",
    "\n",
    "* 事業KPIの可視化を行うためのWebアプリケーションの設計から運用\n",
    "* Scalaを使って日次や月次の集計バッチを実行するアプリケーションの作成\n",
    "* 帳票や外部APIなどからデータベースへデータを投入するツールの作成\n",
    "* 部門の日常業務を改善するためのちょっとしたツールの作成"
   ]
  },
  {
   "cell_type": "markdown",
   "metadata": {
    "slideshow": {
     "slide_type": "slide"
    }
   },
   "source": [
    "## 移行の話をする前に"
   ]
  },
  {
   "cell_type": "markdown",
   "metadata": {
    "slideshow": {
     "slide_type": "slide"
    }
   },
   "source": [
    "### プロジェクトの目標\n",
    "\n",
    "**事業KPIを集計して可視化する**\n"
   ]
  },
  {
   "cell_type": "markdown",
   "metadata": {
    "slideshow": {
     "slide_type": "slide"
    }
   },
   "source": [
    "### プロジェクトの概要\n",
    "\n",
    "* 始まりは2013年\n",
    "* もともとはExcelでやっていた\n",
    "* 「KPIのデータを出社してから見られるようにしたい」\n"
   ]
  },
  {
   "cell_type": "markdown",
   "metadata": {
    "collapsed": true,
    "slideshow": {
     "slide_type": "slide"
    }
   },
   "source": [
    "### プロジェクトの概要\n",
    "\n",
    "\n",
    "必要なデータをかき集める(人力で)\n",
    "\n",
    "* 社内の基幹システムから\n",
    "* 外部サービスから\n",
    "* ぬくもりのあるExcelから\n"
   ]
  },
  {
   "cell_type": "markdown",
   "metadata": {
    "slideshow": {
     "slide_type": "slide"
    }
   },
   "source": [
    "### プロジェクトの概要\n",
    "\n",
    "導入時(約4年前)に採用した技術\n",
    "\n",
    "* PHP 5.5\n",
    "    * FuelPHP 1.7\n",
    "* MySQL 5.6\n",
    "* [TypeScript](https://www.typescriptlang.org/)\n",
    "    * [AngularJS](https://angularjs.org/)\n",
    "    * [Wijmo](http://wijmo.com/)\n"
   ]
  },
  {
   "cell_type": "markdown",
   "metadata": {
    "slideshow": {
     "slide_type": "slide"
    }
   },
   "source": [
    "**出社時に誰もがブラウザから見られるようになった**"
   ]
  },
  {
   "cell_type": "markdown",
   "metadata": {
    "slideshow": {
     "slide_type": "slide"
    }
   },
   "source": [
    "### プロジェクトの課題\n",
    "\n",
    "\n",
    "**見られるようになったので、やりたいことが増えた**\n",
    "\n",
    "* 見たい範囲の拡大\n",
    "\n",
    "    * 集計業務の拡大\n",
    "    * 取り込みが必要なデータ量の増加\n"
   ]
  },
  {
   "cell_type": "markdown",
   "metadata": {
    "slideshow": {
     "slide_type": "slide"
    }
   },
   "source": [
    "** 集計時間の増加 -> 間に合わない**"
   ]
  },
  {
   "cell_type": "markdown",
   "metadata": {
    "slideshow": {
     "slide_type": "slide"
    }
   },
   "source": [
    "**このままでは出社時に見られなくなってしまう**"
   ]
  },
  {
   "cell_type": "markdown",
   "metadata": {
    "slideshow": {
     "slide_type": "slide"
    }
   },
   "source": [
    "**どうしたらいいんだ**"
   ]
  },
  {
   "cell_type": "markdown",
   "metadata": {
    "slideshow": {
     "slide_type": "slide"
    }
   },
   "source": [
    "短縮できそうな箇所を洗い出し\n",
    "\n",
    "選んだのは「**データの取り込み処理**」\n"
   ]
  },
  {
   "cell_type": "markdown",
   "metadata": {
    "slideshow": {
     "slide_type": "slide"
    }
   },
   "source": [
    "集計に必要な社内の基幹システムのデータの取り込みを短縮する\n",
    "\n",
    "逐次処理をしていた箇所を、並行で行うことで短縮を図る\n",
    "\n",
    "* 2015年、並行処理が書きやすい**Scala**を導入"
   ]
  },
  {
   "cell_type": "markdown",
   "metadata": {
    "slideshow": {
     "slide_type": "slide"
    }
   },
   "source": [
    "### Scalaの導入の前に\n",
    "\n",
    "[とあるマーケティング部隊でのembulkの活用事例](https://gist.github.com/grimrose/1377fce36840b6ef7536d22dc63e7761)\n",
    "\n",
    "* 当初は、embulkで解決しようとした\n",
    "* 並列でやるには別の仕組みが必要だったため、断念\n",
    "    * 当時はまだdigdagが無い\n",
    "    * liquidテンプレートもまだだった\n"
   ]
  },
  {
   "cell_type": "markdown",
   "metadata": {
    "slideshow": {
     "slide_type": "slide"
    }
   },
   "source": [
    "### Scalaの導入\n",
    "\n",
    "[ScalikeJDBC](scalikejdbc.org) + [Skinny ORM](http://skinny-framework.org/documentation/orm.html)を利用してスクラッチで開発\n",
    "\n",
    "* ScalaのFutureを活用して、並行で処理するように\n",
    "* PHPで3~4時間 -> 1~2時間で完了するように\n"
   ]
  },
  {
   "cell_type": "markdown",
   "metadata": {
    "slideshow": {
     "slide_type": "slide"
    }
   },
   "source": [
    "**さらなる改善と時間短縮を求めて**"
   ]
  },
  {
   "cell_type": "markdown",
   "metadata": {
    "slideshow": {
     "slide_type": "slide"
    }
   },
   "source": [
    "# そこで、Akka Streamsですよ"
   ]
  },
  {
   "cell_type": "markdown",
   "metadata": {
    "slideshow": {
     "slide_type": "slide"
    }
   },
   "source": [
    "## Akka Streams、どうでしょう\n",
    "\n",
    "* ストリーム処理ことはじめ ～ Akka Streams\n",
    "* グラフを知って理解するAkka Stream\n",
    "* Scala on Docker(AWS ECS)\n"
   ]
  },
  {
   "cell_type": "markdown",
   "metadata": {
    "slideshow": {
     "slide_type": "slide"
    }
   },
   "source": [
    "<div class=\"alert alert-warning\">\n",
    "  <strong>注意</strong>\n",
    "</div>\n",
    "\n",
    "* 初めからWebアプリとして作っているわけではない\n",
    "* 集計業務に特化している\n",
    "* 前提がWebアプリケーションとは異なっている\n",
    "    * 例えば、対象となるデータは特定期間のみ\n",
    "    * 一定時間のみ稼働\n",
    "    * 複数の集計軸\n",
    "    * 外部サービスからのETLなど\n"
   ]
  },
  {
   "cell_type": "markdown",
   "metadata": {
    "slideshow": {
     "slide_type": "slide"
    }
   },
   "source": [
    "### Akka Streams導入に向けて\n",
    "\n",
    "チームのScalaの習熟度が上がってきた\n",
    "\n",
    "Akka Streamsの導入に向けて、まずAkkaとは何かから学ぶことに"
   ]
  },
  {
   "cell_type": "markdown",
   "metadata": {
    "slideshow": {
     "slide_type": "slide"
    }
   },
   "source": [
    "**Scala + Akka勉強会を週一で開催**"
   ]
  },
  {
   "cell_type": "markdown",
   "metadata": {
    "slideshow": {
     "slide_type": "slide"
    }
   },
   "source": [
    "### Akkaとは何かを学ぶなら\n",
    "\n",
    "[Akka in Action](https://www.manning.com/books/akka-in-action)\n",
    "\n",
    "* Akka Streamsの章が増えた\n",
    "* この本を読めば、Akkaの基本となる考え方やAkkaのエコシステムについて知ることが出来る\n",
    "* 日本語版が出るらしい <- **new!!**"
   ]
  },
  {
   "cell_type": "markdown",
   "metadata": {
    "slideshow": {
     "slide_type": "slide"
    }
   },
   "source": [
    "### Akkaでのメッセージのパターンについて学ぶなら\n",
    "\n",
    "[Reactive Messaging Patterns with the Actor Model](https://www.amazon.co.jp/Reactive-Messaging-Patterns-Actor-Model-ebook/dp/B011S8YC5G)\n",
    "\n",
    "通称: RMP本\n"
   ]
  },
  {
   "cell_type": "markdown",
   "metadata": {
    "slideshow": {
     "slide_type": "slide"
    }
   },
   "source": [
    "### [akka-stream を始めるときに覚えておきたいこと](https://speakerdeck.com/tkawachi/akka-stream-woshi-merutokinijue-eteokitaikoto)"
   ]
  },
  {
   "cell_type": "markdown",
   "metadata": {
    "slideshow": {
     "slide_type": "slide"
    }
   },
   "source": [
    "### Akka Streamsを導入する\n",
    "\n",
    "既存の処理とAkka Streamsを繋げるために下記のスライドを参考に、シンプルな制約を策定\n",
    "\n",
    "[DDD + Clean Architecture + UCDOM Full版](https://speakerdeck.com/yoskhdia/ddd-plus-clean-architecture-plus-ucdom-fullban)\n",
    "\n",
    "[最新DDDアーキテクチャとAkkaでの実装ヒントについて](https://speakerdeck.com/j5ik2o/zui-xin-dddakitekutiyatoakkadefalseshi-zhuang-hintonituite)\n"
   ]
  },
  {
   "cell_type": "markdown",
   "metadata": {
    "slideshow": {
     "slide_type": "slide"
    }
   },
   "source": [
    "```scala\n",
    "import akka.scaladsl.Flow\n",
    "\n",
    "trait BaseFlow[Command, Event] {\n",
    "\n",
    "  def toFlow: Flow[Command, Event, NotUsed]\n",
    "\n",
    "}\n",
    "```"
   ]
  },
  {
   "cell_type": "markdown",
   "metadata": {
    "slideshow": {
     "slide_type": "slide"
    }
   },
   "source": [
    "### 少しづつ「部品」としてのFlowを作っていく\n",
    "\n",
    "この制約の基本\n",
    "\n",
    "**Flow**は、**Command**を受け取って**Event**を返す\n",
    "\n",
    "* 既存の処理を分析し、「入力」「処理」「結果」を制約に則って**Flow**を作る\n"
   ]
  },
  {
   "cell_type": "markdown",
   "metadata": {
    "slideshow": {
     "slide_type": "slide"
    }
   },
   "source": [
    "### Dependency Injection(依存性の注入)\n",
    "\n",
    "* 必要な**Repository**、**Service**、**Flow**は[Scaldi]を利用\n",
    "\n",
    "* [Scaldi]を採用したのは、[Skinny](http://skinny-framework.org/documentation/dependency-injection.html)と[scaldi/scaldi-akka](https://github.com/scaldi/scaldi-akka)があったから\n",
    "\n",
    "[Scaldi]: http://scaldi.org/"
   ]
  },
  {
   "cell_type": "markdown",
   "metadata": {
    "slideshow": {
     "slide_type": "slide"
    }
   },
   "source": [
    "```scala\n",
    "import SomethingProtocol._\n",
    "\n",
    "class DoSomethingBusinessLogic(\n",
    "  repository: SomeRepository\n",
    ") extends BaseFlow[DoSomething, DoneSomething] {\n",
    "\n",
    "  override def toFlow: Flow[DoSomething, DoneSomething, NotUsed] = {\n",
    "    Flow[DoSomething]\n",
    "      .map { cmd => process(cmd.arg1, cmd.arg2) }\n",
    "      .map(toEvent)\n",
    "  }\n",
    "  \n",
    "  def process(arg1: String, arg2: Int): String = { ... }\n",
    "  def toEvent(result: String): DoneSomething = { ... }\n",
    "}\n",
    "```"
   ]
  },
  {
   "cell_type": "markdown",
   "metadata": {
    "slideshow": {
     "slide_type": "slide"
    }
   },
   "source": [
    "設計の基本は、以下の通り\n",
    "\n",
    "* built-inのメソッドを使う\n",
    "* `Flow`の中でしか利用しない固有の`Flow`は、無理やりclassにはしない\n",
    "* `Flow`の責務と境界を考える\n",
    "* 業務ロジックの流れを`Flow.fromGraph`で`FlowShape`を作ってまとめる"
   ]
  },
  {
   "cell_type": "markdown",
   "metadata": {
    "slideshow": {
     "slide_type": "slide"
    }
   },
   "source": [
    "\n",
    "\n",
    "### GraphDSLを使う場合\n",
    "\n",
    "[scalafmt](http://scalameta.org/scalafmt/#//format:off)やIntelliJ IDEAでフォーマットされないようにする\n",
    "\n",
    "```scala\n",
    "// @formatter:off\n",
    "\n",
    "// @formatter:on\n",
    "```"
   ]
  },
  {
   "cell_type": "markdown",
   "metadata": {
    "slideshow": {
     "slide_type": "slide"
    }
   },
   "source": [
    "**いくつか設計のパターンが見えてくる**"
   ]
  },
  {
   "cell_type": "markdown",
   "metadata": {
    "slideshow": {
     "slide_type": "slide"
    }
   },
   "source": [
    "例えば\n",
    "* ListやSeqで流れてきたのを、一つづつ後ろへ流したい\n",
    "\n",
    "```scala\n",
    "Flow[List[Int]]\n",
    "  .flatMapConcat { list =>\n",
    "    Source(list)\n",
    "  }\n",
    "```"
   ]
  },
  {
   "cell_type": "markdown",
   "metadata": {
    "slideshow": {
     "slide_type": "slide"
    }
   },
   "source": [
    "* 型に応じて流す先を変えたい\n",
    "\n",
    "```scala\n",
    "val broadcast = Broadcast[DoneSomething](2)\n",
    "val accepted = broadcast.out(0).mapConcat {\n",
    "  case a: Accepted => a :: Nil\n",
    "  case _           => Nil\n",
    "}\n",
    "val rejected = broadcast.out(1).mapConcat {\n",
    "  case r: Rejected => r :: Nil\n",
    "  case _           => Nil\n",
    "}\n",
    "```"
   ]
  },
  {
   "cell_type": "markdown",
   "metadata": {
    "slideshow": {
     "slide_type": "slide"
    }
   },
   "source": [
    "* 必要な要素をまとめて違う型で後ろに流したい\n",
    "\n",
    "```scala\n",
    "ZipWith[Int, String, Seq[String]] { (i: Int, s: String) =>\n",
    "  (1 to i).map(n => s * n)\n",
    "}\n",
    "```"
   ]
  },
  {
   "cell_type": "markdown",
   "metadata": {
    "slideshow": {
     "slide_type": "slide"
    }
   },
   "source": [
    "### 非同期処理と並行処理\n",
    "\n",
    "* Futureにしていた非同期処理は、`mapAsync`や`async`へ\n",
    "* Fan-In、Fan-Outを活用して並行処理を行うことが多い\n",
    "* Futureを使う場合は、Akka Streamsで使う`ExecutionContext`とは別のを用意する\n",
    "* DBなどを扱うFlowは、blocking用の`ExecutionContext`を用意する"
   ]
  },
  {
   "cell_type": "markdown",
   "metadata": {
    "slideshow": {
     "slide_type": "slide"
    }
   },
   "source": [
    "今のところ自作の **GraphStage** を作る必要性に迫られていない\n",
    "\n",
    "が、今後に備えて勉強しておく必要はあると思われる"
   ]
  },
  {
   "cell_type": "markdown",
   "metadata": {
    "slideshow": {
     "slide_type": "slide"
    }
   },
   "source": [
    "**GraphStage** を作るときに参考にしたい\n",
    "\n",
    "[Alpakka](http://developer.lightbend.com/docs/alpakka/current/)\n"
   ]
  },
  {
   "cell_type": "markdown",
   "metadata": {
    "slideshow": {
     "slide_type": "slide"
    }
   },
   "source": [
    "### Flow同士をつなぐ\n",
    "\n",
    "他の`Flow`の`Event`から`Command`へ変換するのは、`Protocol`の役割\n",
    "\n",
    "変換は、`Flow`または`UseCase`のprivateなメソッドで行うか、`Protocol` objectにpublicなメソッドで行う\n"
   ]
  },
  {
   "cell_type": "markdown",
   "metadata": {
    "slideshow": {
     "slide_type": "slide"
    }
   },
   "source": [
    "```scala\n",
    "object SomethingProtocol {\n",
    "\n",
    "  case class DoSomething(arg1: String, args2: Int)\n",
    "  case object DoneSomething\n",
    "\n",
    "  def toDoSomethingCommand(event: OtherContextEvent): DoSomething = {\n",
    "    DoSomething(event.result, 100)\n",
    "  }\n",
    "}\n",
    "```"
   ]
  },
  {
   "cell_type": "markdown",
   "metadata": {
    "slideshow": {
     "slide_type": "slide"
    }
   },
   "source": [
    "<div class=\"alert alert-info\">\n",
    "  <strong>困ったときに参考になった</strong>\n",
    "</div>\n",
    "\n",
    "公式ドキュメント\n",
    "\n",
    "http://doc.akka.io/docs/akka/current/scala/stream/index.html\n",
    "\n",
    "\n",
    "GitHub\n",
    "\n",
    "https://github.com/akka/akka\n"
   ]
  },
  {
   "cell_type": "markdown",
   "metadata": {
    "slideshow": {
     "slide_type": "slide"
    }
   },
   "source": [
    "## Akka Streamsを使ったさらなる改善"
   ]
  },
  {
   "cell_type": "markdown",
   "metadata": {
    "slideshow": {
     "slide_type": "slide"
    }
   },
   "source": [
    "### [Akka HTTP](http://doc.akka.io/docs/akka-http/current/scala/http/introduction.html)の導入"
   ]
  },
  {
   "cell_type": "markdown",
   "metadata": {
    "slideshow": {
     "slide_type": "slide"
    }
   },
   "source": [
    "### Akka HTTPを利用したAPIサーバの開発\n",
    "\n",
    "導入する理由\n",
    "\n",
    "* 現在[Angular](https://angular.io/) 4を試験的に導入しているため、今後はサーバーサイドにViewを持つ必要がなくなっていく\n",
    "\n",
    "* 既存のシステムのAPIは画面と密になっているため、他のシステムからAPIを呼ぶのが難しい\n",
    "\n",
    "* バッチ処理を呼び出すシステムがJSONを受け付けるようになると、AWS上での連携がしやすくなる\n",
    "* バッチの処理IDを`202 Accepted`な`HttpResponse`で返すことで、非同期にすることができるようになる"
   ]
  },
  {
   "cell_type": "markdown",
   "metadata": {
    "slideshow": {
     "slide_type": "slide"
    }
   },
   "source": [
    "### Akka HTTPを利用したAPIサーバの開発\n",
    "\n",
    "* 現在、PHPアプリケーションの一部をBFF(Backends for Frontends)として、Akka HTTPのAPIとやり取りを行うようにして稼働中\n",
    "\n",
    "* 結果を返す必要の無いバッチ処理のキックやAPIサーバの死活監視等、直接影響が少ない箇所から導入中\n",
    "\n",
    "* 将来的に、Angular等のフロントエンドアプリケーションからのリクエストは全てAkka HTTPのAPIサーバに任せるようにしたい"
   ]
  },
  {
   "cell_type": "markdown",
   "metadata": {
    "slideshow": {
     "slide_type": "slide"
    }
   },
   "source": [
    "## テストについて"
   ]
  },
  {
   "cell_type": "markdown",
   "metadata": {
    "slideshow": {
     "slide_type": "slide"
    }
   },
   "source": [
    "### テストについて\n",
    "\n",
    "DBにアクセスする集計処理がメインなので、SQLの実行は必ず行う\n",
    "\n",
    "* MySQL固有のクエリは、scalatestのtagを利用して、他のクエリのテストと分ける\n",
    "* H2ではどうしてもテスト出来ないので、MySQL上で必ず実行する必要があるため\n",
    "* 他のクエリは、H2を使用しても問題ないためユニットテストとして他のテストと合わせて実施\n",
    "* その他に、Redis等特定のミドルウェアの環境が必要なテストは、tagをつけて分ける"
   ]
  },
  {
   "cell_type": "markdown",
   "metadata": {
    "slideshow": {
     "slide_type": "slide"
    }
   },
   "source": [
    "### テストについて\n",
    "\n",
    "ユニットテスト及びインテグレーションテストには、dockerを利用\n",
    "\n",
    "* docker-composeでテスト環境を集約\n",
    "* sbtをインストールしたCentOSのコンテナでcompileとtestの実行\n",
    "* その他にミドルウェアのMySQL, Redisのコンテナを使用\n",
    "* MySQLへのマイグレーションは、`sbt-flyway`を使用\n"
   ]
  },
  {
   "cell_type": "markdown",
   "metadata": {
    "slideshow": {
     "slide_type": "slide"
    }
   },
   "source": [
    "### テストについて\n",
    "\n",
    "\n",
    "Akka Streamsのテストのソースは、困ったときに参考になった\n",
    "\n",
    "* 「こういう時どう書けばいいのかな？」がだいたい揃っている\n",
    "\n",
    "https://github.com/akka/akka/tree/master/akka-stream-tests/src/test/scala/akka/stream/scaladsl\n"
   ]
  },
  {
   "cell_type": "markdown",
   "metadata": {
    "slideshow": {
     "slide_type": "slide"
    }
   },
   "source": [
    "### テストについて\n",
    "\n",
    "Akka StreamsのFlowを採用したメリット\n",
    "\n",
    "* 制約に則った部品のテストは、業務ロジックのテストに集中することが出来た"
   ]
  },
  {
   "cell_type": "markdown",
   "metadata": {
    "slideshow": {
     "slide_type": "slide"
    }
   },
   "source": [
    "### テストについて\n",
    "\n",
    "Flow同士を繋げたUseCaseのテストは、メッセージが適切に流れるかを確認するだけになった\n",
    "\n",
    "* In, Outのメッセージの中身を適切に返すMockにDIで差し替える\n",
    "* 意図していないFlowにメッセージが来たら、failするようにする\n",
    "* Protocolが適切に他のEventからCommandを生成できているかを確認\n",
    "* 他のFlowが出来てなくても、[akka-stream-testkit]を使うことでTDDも出来た\n",
    "\n",
    "[akka-stream-testkit]: http://doc.akka.io/docs/akka/current/scala/stream/stream-testkit.html"
   ]
  },
  {
   "cell_type": "markdown",
   "metadata": {
    "slideshow": {
     "slide_type": "slide"
    }
   },
   "source": [
    "### テストについて\n",
    "\n",
    "テストがしにくいと感じたら、設計を見直すきっかけになった\n",
    "\n",
    "* Flowの責務\n",
    "* Command及びEventで持つべきメッセージの中身\n",
    "    "
   ]
  },
  {
   "cell_type": "markdown",
   "metadata": {
    "slideshow": {
     "slide_type": "slide"
    }
   },
   "source": [
    "### テストについて\n",
    "\n",
    "Akka Streamsのテストで一部困ったこと\n",
    "\n",
    "* `Flow`のOutがSeqなどのコレクションの場合、正しく流れてこないというのをテストする\n"
   ]
  },
  {
   "cell_type": "markdown",
   "metadata": {
    "slideshow": {
     "slide_type": "slide"
    }
   },
   "source": [
    "```scala\n",
    "  it should \"Inから何かしら処理をしてListが出来たのを一つづつOutへ流す処理、Outが0件の場合\" in {\n",
    "    val flow = Flow[Int].flatMapConcat(_ => Source(List.empty[String]))\n",
    "\n",
    "    val (pub, sub) = TestSource.probe[Int]\n",
    "      .via(flow)\n",
    "      .toMat(TestSink.probe[String])(Keep.both)\n",
    "      .run()\n",
    "\n",
    "    sub.request(10)\n",
    "\n",
    "    pub.sendNext(1)\n",
    "      .sendNext(10)\n",
    "      .sendComplete() // OnCompleteのメッセージを渡すため\n",
    "\n",
    "    // sub.expectNext(\"1\") // これだとテストが失敗する\n",
    "    sub.expectComplete() // OnCompleteのメッセージを受け取ったことを確認する\n",
    "  }\n",
    "```"
   ]
  },
  {
   "cell_type": "markdown",
   "metadata": {
    "slideshow": {
     "slide_type": "slide"
    }
   },
   "source": [
    "## つまずいたこと"
   ]
  },
  {
   "cell_type": "markdown",
   "metadata": {
    "slideshow": {
     "slide_type": "slide"
    }
   },
   "source": [
    "### つまづいたこと\n",
    "\n",
    "最初に移行するのは、移行しやすい規模の処理なので、大きな処理に立ち向かう場合、FlowとUseCaseの粒度を見極めるのが難しかった\n",
    "\n",
    "-> issueへリファクタリングのやり方等示唆を記載して、早めに対応する"
   ]
  },
  {
   "cell_type": "markdown",
   "metadata": {
    "slideshow": {
     "slide_type": "slide"
    }
   },
   "source": [
    "### つまづいたこと\n",
    "\n",
    "Akka HTTPで例外処理を行う\n",
    "\n",
    "-> 正しく`Directive`を使わないと、例外が起きたときに500な`HttpResponse`を返したいのに、`200 OK`を返してしまう\n"
   ]
  },
  {
   "cell_type": "markdown",
   "metadata": {
    "slideshow": {
     "slide_type": "slide"
    }
   },
   "source": [
    "### Akka HTTPで例外処理を行う\n",
    "\n",
    "`Flow`の下流に`Sink.head`をセットして、`Future`を返す`RunnableGraph`を用意する\n",
    "\n",
    "* [onSuccess](http://doc.akka.io/docs/akka-http/current/scala/http/routing-dsl/directives/future-directives/onSuccess.html#onsuccess)を使うと、`scala.util.Failure`を`InternalServerError`な`HttpResponse`を返してくれる\n",
    "* 失敗時のハンドリングをしたいときは、[onComplete](http://doc.akka.io/docs/akka-http/current/scala/http/routing-dsl/directives/future-directives/onComplete.html#oncomplete)を使う\n"
   ]
  },
  {
   "cell_type": "markdown",
   "metadata": {
    "slideshow": {
     "slide_type": "slide"
    }
   },
   "source": [
    "### 今後について\n",
    "\n",
    "* PHPでやっていた処理を引き続きAkka Streams、Akka HTTPへ移行していく\n",
    "* Query向けのAPIを[Sangria]に出来ないか検証する\n",
    "* AWSへ移行していくために、[Alpakka]のAWSの各サービスのモジュールと組み合わせていく\n",
    "\n",
    "[Sangria]: http://sangria-graphql.org/\n",
    "[Alpakka]: http://developer.lightbend.com/docs/alpakka/current/"
   ]
  },
  {
   "cell_type": "markdown",
   "metadata": {
    "slideshow": {
     "slide_type": "slide"
    }
   },
   "source": [
    "## まとめ\n",
    "\n",
    "* 集計処理の改善にScalaを活用している\n",
    "* Akka Streamsは、業務処理の流れを**stream**として表現出来る\n",
    "* Akka Streamsのテストは、テスティングフレームワークをはじめ充実している\n",
    "* Akka Streamsは公式のドキュメントが充実してきているので、必ず読もう(英語だけど)\n",
    "* Akka in Action の日本語版が出たら、買いましょう!"
   ]
  }
 ],
 "metadata": {
  "celltoolbar": "Slideshow",
  "kernelspec": {
   "display_name": "Python 3",
   "language": "python",
   "name": "python3"
  },
  "language_info": {
   "codemirror_mode": {
    "name": "ipython",
    "version": 3
   },
   "file_extension": ".py",
   "mimetype": "text/x-python",
   "name": "python",
   "nbconvert_exporter": "python",
   "pygments_lexer": "ipython3",
   "version": "3.5.2"
  }
 },
 "nbformat": 4,
 "nbformat_minor": 2
}
